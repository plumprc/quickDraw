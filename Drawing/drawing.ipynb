{
 "cells": [
  {
   "cell_type": "code",
   "execution_count": 1,
   "metadata": {},
   "outputs": [],
   "source": [
    "import warnings\n",
    "warnings.filterwarnings('ignore') # to suppress some matplotlib deprecation warnings\n",
    "import ast\n",
    "import math\n",
    "import numpy as np\n",
    "import pandas as pd\n",
    "from simplification.cutil import simplify_coords\n",
    "import matplotlib.pyplot as plt\n",
    "import matplotlib.style as style\n",
    "%matplotlib inline\n",
    "%config InlineBackend.figure_format = 'retina'"
   ]
  },
  {
   "cell_type": "code",
   "execution_count": 2,
   "metadata": {},
   "outputs": [
    {
     "data": {
      "text/html": [
       "<div>\n",
       "<style scoped>\n",
       "    .dataframe tbody tr th:only-of-type {\n",
       "        vertical-align: middle;\n",
       "    }\n",
       "\n",
       "    .dataframe tbody tr th {\n",
       "        vertical-align: top;\n",
       "    }\n",
       "\n",
       "    .dataframe thead th {\n",
       "        text-align: right;\n",
       "    }\n",
       "</style>\n",
       "<table border=\"1\" class=\"dataframe\">\n",
       "  <thead>\n",
       "    <tr style=\"text-align: right;\">\n",
       "      <th></th>\n",
       "      <th>key_id</th>\n",
       "      <th>countrycode</th>\n",
       "      <th>drawing</th>\n",
       "    </tr>\n",
       "  </thead>\n",
       "  <tbody>\n",
       "    <tr>\n",
       "      <th>0</th>\n",
       "      <td>9022912629140906</td>\n",
       "      <td>SG</td>\n",
       "      <td>[[[549, 549, 549, 549, 549, 549, 549, 549, 549...</td>\n",
       "    </tr>\n",
       "    <tr>\n",
       "      <th>1</th>\n",
       "      <td>9399436465240934</td>\n",
       "      <td>TW</td>\n",
       "      <td>[[[23.20400047302246, 19.23900032043457, 13.81...</td>\n",
       "    </tr>\n",
       "    <tr>\n",
       "      <th>2</th>\n",
       "      <td>9026684540723037</td>\n",
       "      <td>IE</td>\n",
       "      <td>[[[514, 519, 524, 529, 534, 539, 545, 551, 556...</td>\n",
       "    </tr>\n",
       "    <tr>\n",
       "      <th>3</th>\n",
       "      <td>9678445486746481</td>\n",
       "      <td>RU</td>\n",
       "      <td>[[[726, 726, 727, 727, 717, 713, 703, 700, 696...</td>\n",
       "    </tr>\n",
       "    <tr>\n",
       "      <th>4</th>\n",
       "      <td>9469133523291747</td>\n",
       "      <td>CA</td>\n",
       "      <td>[[[133.66700744628906, 132.1219940185547, 130....</td>\n",
       "    </tr>\n",
       "  </tbody>\n",
       "</table>\n",
       "</div>"
      ],
      "text/plain": [
       "             key_id countrycode  \\\n",
       "0  9022912629140906          SG   \n",
       "1  9399436465240934          TW   \n",
       "2  9026684540723037          IE   \n",
       "3  9678445486746481          RU   \n",
       "4  9469133523291747          CA   \n",
       "\n",
       "                                             drawing  \n",
       "0  [[[549, 549, 549, 549, 549, 549, 549, 549, 549...  \n",
       "1  [[[23.20400047302246, 19.23900032043457, 13.81...  \n",
       "2  [[[514, 519, 524, 529, 534, 539, 545, 551, 556...  \n",
       "3  [[[726, 726, 727, 727, 717, 713, 703, 700, 696...  \n",
       "4  [[[133.66700744628906, 132.1219940185547, 130....  "
      ]
     },
     "execution_count": 2,
     "metadata": {},
     "output_type": "execute_result"
    }
   ],
   "source": [
    "df = pd.read_csv('test.csv')\n",
    "df.head()"
   ]
  },
  {
   "cell_type": "code",
   "execution_count": 3,
   "metadata": {},
   "outputs": [
    {
     "data": {
      "text/plain": [
       "3"
      ]
     },
     "execution_count": 3,
     "metadata": {},
     "output_type": "execute_result"
    }
   ],
   "source": [
    "img = ast.literal_eval(df['drawing'][0])\n",
    "len(img[0])"
   ]
  },
  {
   "cell_type": "code",
   "execution_count": 4,
   "metadata": {},
   "outputs": [],
   "source": [
    "def resample(x, y, spacing=1.0):\n",
    "    output = []\n",
    "    n = len(x)\n",
    "    px = x[0]\n",
    "    py = y[0]\n",
    "    cumlen = 0\n",
    "    pcumlen = 0\n",
    "    offset = 0\n",
    "    for i in range(1, n):\n",
    "        cx = x[i]\n",
    "        cy = y[i]\n",
    "        dx = cx - px\n",
    "        dy = cy - py\n",
    "        curlen = math.sqrt(dx*dx + dy*dy)\n",
    "        cumlen += curlen\n",
    "        while offset < cumlen:\n",
    "            t = (offset - pcumlen) / curlen\n",
    "            invt = 1 - t\n",
    "            tx = px * invt + cx * t\n",
    "            ty = py * invt + cy * t\n",
    "            output.append((tx, ty))\n",
    "            offset += spacing\n",
    "        pcumlen = cumlen\n",
    "        px = cx\n",
    "        py = cy\n",
    "    output.append((x[-1], y[-1]))\n",
    "    return output\n",
    "  \n",
    "def normalize_resample_simplify(strokes, epsilon=1.0, resample_spacing=1.0):\n",
    "    if len(strokes) == 0:\n",
    "        raise ValueError('empty image')\n",
    "\n",
    "    # find min and max\n",
    "    amin = None\n",
    "    amax = None\n",
    "    for x, y, _ in strokes:\n",
    "        cur_min = [np.min(x), np.min(y)]\n",
    "        cur_max = [np.max(x), np.max(y)]\n",
    "        amin = cur_min if amin is None else np.min([amin, cur_min], axis=0)\n",
    "        amax = cur_max if amax is None else np.max([amax, cur_max], axis=0)\n",
    "\n",
    "    # drop any drawings that are linear along one axis\n",
    "    arange = np.array(amax) - np.array(amin)\n",
    "    if np.min(arange) == 0:\n",
    "        raise ValueError('bad range of values')\n",
    "\n",
    "    arange = np.max(arange)\n",
    "    output = []\n",
    "    for x, y, _ in strokes:\n",
    "        xy = np.array([x, y], dtype=float).T\n",
    "        xy -= amin\n",
    "        xy *= 255.\n",
    "        xy /= arange\n",
    "        resampled = resample(xy[:, 0], xy[:, 1], resample_spacing)\n",
    "        simplified = simplify_coords(resampled, epsilon)\n",
    "        xy = np.around(simplified).astype(np.uint8)\n",
    "        output.append(xy.T.tolist())\n",
    "\n",
    "    return output"
   ]
  },
  {
   "cell_type": "code",
   "execution_count": 5,
   "metadata": {},
   "outputs": [],
   "source": [
    "s_img = normalize_resample_simplify(img)"
   ]
  },
  {
   "cell_type": "code",
   "execution_count": 6,
   "metadata": {},
   "outputs": [
    {
     "data": {
      "image/png": "[encoded data removed]",
      "text/plain": [
       "<Figure size 432x216 with 2 Axes>"
      ]
     },
     "metadata": {
      "image/png": {
       "height": 177,
       "width": 349
      },
      "needs_background": "light"
     },
     "output_type": "display_data"
    }
   ],
   "source": [
    "plt.figure(figsize=(6,3))    \n",
    "for x,y,t in img:\n",
    "    plt.subplot(1,2,1)\n",
    "    plt.plot(x, y, marker='.')\n",
    "    plt.axis('off')\n",
    "\n",
    "    plt.gca().invert_yaxis()\n",
    "    plt.axis('equal')\n",
    "\n",
    "for x,y in s_img:\n",
    "    plt.subplot(1,2,2)\n",
    "    plt.plot(x, y, marker='.')\n",
    "    plt.axis('off')\n",
    "\n",
    "    plt.gca().invert_yaxis()\n",
    "    plt.axis('equal')\n",
    "    \n",
    "plt.show() "
   ]
  },
  {
   "cell_type": "code",
   "execution_count": 7,
   "metadata": {},
   "outputs": [
    {
     "data": {
      "text/plain": [
       "(2, 3)"
      ]
     },
     "execution_count": 7,
     "metadata": {},
     "output_type": "execute_result"
    }
   ],
   "source": [
    "iimg = np.array(img) \n",
    "iimg.shape"
   ]
  },
  {
   "cell_type": "code",
   "execution_count": 8,
   "metadata": {},
   "outputs": [
    {
     "name": "stdout",
     "output_type": "stream",
     "text": [
      "[0, 121, 138, 145, 154, 162, 170, 177, 188, 194, 202, 211, 219, 227, 234, 243, 251, 258, 267, 275, 292, 299, 308, 325, 349, 396, 421, 438, 445, 454, 463, 470, 479, 489, 494, 502, 512, 518, 527, 534, 543, 552, 560, 566, 576, 582, 594, 599, 607, 615, 624, 632, 641, 658, 674, 696, 803, 819, 827, 834, 843, 850, 859, 867, 876, 883, 893, 898, 907, 915, 924, 931, 940, 947, 956, 972, 980, 996, 1012, 1037, 1176, 1193, 1198, 1208, 1214, 1224, 1232, 1239, 1247, 1255, 1263, 1272, 1280, 1291, 1296, 1304, 1312, 1320, 1328, 1337, 1345, 1353, 1369, 1387, 1401, 1418, 1434, 1450, 1459, 1475, 1496, 1500, 1514, 1524, 1531, 1541, 1548, 1556, 1572, 1580, 1598, 1612, 1628, 1645, 1660, 1670, 1689, 1702, 1718, 1734, 1759, 1847, 2054, 2082, 2107, 2139, 2172, 2199, 2220, 2253, 2287, 2312, 2334, 2359, 2374, 2393, 2407, 2423, 2439, 2456, 2472, 2489, 2503, 2520, 2536, 2553, 2569, 2586, 2601, 2617, 2633, 2649, 2666, 2682, 2698, 2715, 2730, 2756, 2771, 2796, 2812, 2836, 2878, 2919, 2942, 2958, 2982, 3082]\n",
      "[4475, 4570, 4587, 4595, 4603, 4612, 4619, 4628, 4635]\n"
     ]
    }
   ],
   "source": [
    "for x, y, t in iimg:\n",
    "    print(t)"
   ]
  },
  {
   "cell_type": "code",
   "execution_count": 9,
   "metadata": {},
   "outputs": [],
   "source": [
    "test_draw = []\n",
    "splits = []\n",
    "idx = 0\n",
    "with open ('draw_raw.txt') as fb:\n",
    "    lines = fb.readlines()\n",
    "for i in lines:\n",
    "    if i == '------\\n':\n",
    "        splits.append(idx)\n",
    "    idx = idx + 1"
   ]
  },
  {
   "cell_type": "code",
   "execution_count": 10,
   "metadata": {},
   "outputs": [
    {
     "data": {
      "text/plain": [
       "[371, 428]"
      ]
     },
     "execution_count": 10,
     "metadata": {},
     "output_type": "execute_result"
    }
   ],
   "source": [
    "splits"
   ]
  },
  {
   "cell_type": "code",
   "execution_count": 17,
   "metadata": {},
   "outputs": [],
   "source": [
    "idx = 0\n",
    "x_list = []\n",
    "y_list = []\n",
    "t_list = []\n",
    "for raw in lines:\n",
    "    if idx > splits[1]:\n",
    "        x, y = raw[:-1].split()\n",
    "        x_list.append(int(x))\n",
    "        y_list.append(int(y))\n",
    "        t_list.append(idx * 0.1)\n",
    "    idx = idx + 1"
   ]
  },
  {
   "cell_type": "code",
   "execution_count": 18,
   "metadata": {},
   "outputs": [],
   "source": [
    "draw.append([x_list, y_list, t_list])"
   ]
  },
  {
   "cell_type": "code",
   "execution_count": 21,
   "metadata": {},
   "outputs": [
    {
     "name": "stdout",
     "output_type": "stream",
     "text": [
      "[[[390, 380, 377, 376, 374, 373, 372, 371, 370, 368, 367, 366, 365, 364, 361, 360, 360, 359, 358, 356, 356, 355, 355, 354, 353, 352, 351, 350, 348, 348, 348, 347, 347, 346, 345, 345, 344, 344, 344, 343, 343, 341, 340, 340, 339, 339, 338, 338, 337, 337, 335, 335, 334, 334, 333, 333, 332, 332, 332, 332, 331, 331, 331, 330, 330, 330, 328, 328, 328, 328, 328, 328, 328, 328, 328, 328, 328, 328, 328, 328, 328, 328, 328, 328, 328, 329, 329, 329, 329, 330, 330, 330, 330, 330, 331, 331, 331, 331, 331, 332, 332, 332, 332, 332, 332, 332, 333, 333, 333, 334, 334, 334, 336, 336, 337, 337, 338, 339, 340, 342, 343, 343, 344, 344, 345, 346, 348, 349, 350, 350, 351, 352, 352, 353, 354, 356, 358, 359, 360, 360, 362, 362, 363, 364, 364, 367, 368, 369, 370, 370, 372, 374, 374, 376, 378, 380, 381, 382, 383, 384, 386, 387, 388, 389, 393, 396, 398, 399, 401, 403, 404, 405, 408, 416, 418, 419, 420, 422, 424, 427, 432, 433, 436, 437, 438, 439, 440, 442, 445, 447, 452, 453, 454, 455, 456, 459, 461, 466, 467, 468, 469, 472, 472, 474, 476, 477, 480, 482, 484, 486, 487, 488, 490, 492, 496, 497, 499, 499, 500, 501, 504, 504, 507, 508, 510, 511, 512, 512, 515, 517, 518, 518, 519, 520, 520, 521, 522, 523, 523, 523, 523, 524, 524, 524, 524, 524, 524, 524, 524, 524, 524, 524, 524, 524, 524, 524, 524, 524, 524, 524, 524, 523, 523, 523, 522, 522, 521, 518, 517, 516, 516, 516, 515, 513, 513, 512, 510, 510, 509, 509, 508, 508, 508, 505, 504, 504, 503, 503, 502, 500, 499, 498, 497, 497, 496, 492, 492, 491, 490, 489, 486, 485, 485, 483, 482, 481, 479, 477, 475, 472, 471, 468, 467, 464, 463, 460, 457, 456, 456, 455, 452, 451, 450, 447, 446, 445, 444, 443, 442, 442, 440, 439, 438, 436, 434, 433, 432, 430, 429, 428, 427, 426, 424, 423, 422, 420, 419, 418, 417, 416, 414, 413, 412, 411, 410, 409, 408, 407, 406, 405, 404, 403, 402, 400, 399, 398, 397, 396, 396, 394, 393], [261, 260, 260, 260, 260, 260, 260, 260, 260, 260, 260, 260, 260, 260, 260, 260, 262, 262, 262, 262, 263, 263, 264, 264, 265, 266, 268, 269, 270, 271, 272, 272, 273, 274, 276, 277, 278, 279, 280, 280, 282, 282, 285, 286, 286, 288, 289, 290, 290, 291, 294, 295, 296, 297, 298, 299, 299, 301, 303, 304, 304, 305, 306, 308, 309, 311, 311, 312, 313, 314, 316, 317, 318, 321, 322, 323, 328, 329, 330, 331, 332, 334, 335, 336, 338, 342, 343, 344, 346, 346, 347, 348, 349, 350, 355, 356, 357, 358, 359, 360, 361, 362, 363, 366, 367, 368, 368, 369, 370, 370, 371, 372, 374, 375, 376, 378, 378, 379, 382, 383, 385, 386, 386, 387, 388, 390, 393, 394, 394, 395, 396, 398, 399, 400, 401, 402, 406, 407, 408, 409, 410, 411, 412, 412, 413, 415, 418, 418, 418, 419, 420, 421, 422, 423, 425, 426, 426, 426, 427, 427, 428, 430, 430, 430, 431, 432, 433, 433, 433, 434, 435, 435, 436, 438, 438, 438, 438, 438, 438, 440, 440, 440, 440, 440, 440, 440, 440, 440, 440, 440, 438, 438, 437, 437, 436, 435, 433, 431, 430, 430, 429, 428, 426, 425, 425, 423, 421, 419, 418, 417, 417, 415, 414, 412, 407, 407, 406, 405, 403, 402, 399, 398, 395, 393, 391, 390, 389, 386, 386, 381, 380, 379, 378, 377, 376, 374, 370, 368, 366, 365, 363, 360, 359, 358, 355, 354, 353, 352, 349, 348, 346, 345, 344, 342, 341, 339, 338, 337, 335, 334, 333, 332, 329, 328, 328, 326, 324, 315, 313, 309, 308, 307, 306, 306, 305, 302, 300, 299, 299, 298, 298, 296, 295, 294, 294, 293, 293, 292, 291, 290, 289, 289, 289, 288, 287, 286, 285, 285, 284, 284, 282, 282, 281, 280, 280, 279, 279, 278, 278, 276, 276, 275, 275, 274, 274, 274, 274, 274, 273, 273, 273, 273, 273, 272, 272, 272, 271, 271, 271, 270, 270, 270, 269, 269, 268, 268, 268, 267, 267, 267, 267, 267, 267, 267, 267, 267, 267, 267, 267, 267, 267, 267, 267, 267, 266, 266, 266, 266, 266, 266, 266, 266, 266, 265, 265, 265, 265, 265, 264, 264, 264], [0.0, 0.1, 0.2, 0.30000000000000004, 0.4, 0.5, 0.6000000000000001, 0.7000000000000001, 0.8, 0.9, 1.0, 1.1, 1.2000000000000002, 1.3, 1.4000000000000001, 1.5, 1.6, 1.7000000000000002, 1.8, 1.9000000000000001, 2.0, 2.1, 2.2, 2.3000000000000003, 2.4000000000000004, 2.5, 2.6, 2.7, 2.8000000000000003, 2.9000000000000004, 3.0, 3.1, 3.2, 3.3000000000000003, 3.4000000000000004, 3.5, 3.6, 3.7, 3.8000000000000003, 3.9000000000000004, 4.0, 4.1000000000000005, 4.2, 4.3, 4.4, 4.5, 4.6000000000000005, 4.7, 4.800000000000001, 4.9, 5.0, 5.1000000000000005, 5.2, 5.300000000000001, 5.4, 5.5, 5.6000000000000005, 5.7, 5.800000000000001, 5.9, 6.0, 6.1000000000000005, 6.2, 6.300000000000001, 6.4, 6.5, 6.6000000000000005, 6.7, 6.800000000000001, 6.9, 7.0, 7.1000000000000005, 7.2, 7.300000000000001, 7.4, 7.5, 7.6000000000000005, 7.7, 7.800000000000001, 7.9, 8.0, 8.1, 8.200000000000001, 8.3, 8.4, 8.5, 8.6, 8.700000000000001, 8.8, 8.9, 9.0, 9.1, 9.200000000000001, 9.3, 9.4, 9.5, 9.600000000000001, 9.700000000000001, 9.8, 9.9, 10.0, 10.100000000000001, 10.200000000000001, 10.3, 10.4, 10.5, 10.600000000000001, 10.700000000000001, 10.8, 10.9, 11.0, 11.100000000000001, 11.200000000000001, 11.3, 11.4, 11.5, 11.600000000000001, 11.700000000000001, 11.8, 11.9, 12.0, 12.100000000000001, 12.200000000000001, 12.3, 12.4, 12.5, 12.600000000000001, 12.700000000000001, 12.8, 12.9, 13.0, 13.100000000000001, 13.200000000000001, 13.3, 13.4, 13.5, 13.600000000000001, 13.700000000000001, 13.8, 13.9, 14.0, 14.100000000000001, 14.200000000000001, 14.3, 14.4, 14.5, 14.600000000000001, 14.700000000000001, 14.8, 14.9, 15.0, 15.100000000000001, 15.200000000000001, 15.3, 15.4, 15.5, 15.600000000000001, 15.700000000000001, 15.8, 15.9, 16.0, 16.1, 16.2, 16.3, 16.400000000000002, 16.5, 16.6, 16.7, 16.8, 16.900000000000002, 17.0, 17.1, 17.2, 17.3, 17.400000000000002, 17.5, 17.6, 17.7, 17.8, 17.900000000000002, 18.0, 18.1, 18.2, 18.3, 18.400000000000002, 18.5, 18.6, 18.7, 18.8, 18.900000000000002, 19.0, 19.1, 19.200000000000003, 19.3, 19.400000000000002, 19.5, 19.6, 19.700000000000003, 19.8, 19.900000000000002, 20.0, 20.1, 20.200000000000003, 20.3, 20.400000000000002, 20.5, 20.6, 20.700000000000003, 20.8, 20.900000000000002, 21.0, 21.1, 21.200000000000003, 21.3, 21.400000000000002, 21.5, 21.6, 21.700000000000003, 21.8, 21.900000000000002, 22.0, 22.1, 22.200000000000003, 22.3, 22.400000000000002, 22.5, 22.6, 22.700000000000003, 22.8, 22.900000000000002, 23.0, 23.1, 23.200000000000003, 23.3, 23.400000000000002, 23.5, 23.6, 23.700000000000003, 23.8, 23.900000000000002, 24.0, 24.1, 24.200000000000003, 24.3, 24.400000000000002, 24.5, 24.6, 24.700000000000003, 24.8, 24.900000000000002, 25.0, 25.1, 25.200000000000003, 25.3, 25.400000000000002, 25.5, 25.6, 25.700000000000003, 25.8, 25.900000000000002, 26.0, 26.1, 26.200000000000003, 26.3, 26.400000000000002, 26.5, 26.6, 26.700000000000003, 26.8, 26.900000000000002, 27.0, 27.1, 27.200000000000003, 27.3, 27.400000000000002, 27.5, 27.6, 27.700000000000003, 27.8, 27.900000000000002, 28.0, 28.1, 28.200000000000003, 28.3, 28.400000000000002, 28.5, 28.6, 28.700000000000003, 28.8, 28.900000000000002, 29.0, 29.1, 29.200000000000003, 29.3, 29.400000000000002, 29.5, 29.6, 29.700000000000003, 29.8, 29.900000000000002, 30.0, 30.1, 30.200000000000003, 30.3, 30.400000000000002, 30.5, 30.6, 30.700000000000003, 30.8, 30.900000000000002, 31.0, 31.1, 31.200000000000003, 31.3, 31.400000000000002, 31.5, 31.6, 31.700000000000003, 31.8, 31.900000000000002, 32.0, 32.1, 32.2, 32.300000000000004, 32.4, 32.5, 32.6, 32.7, 32.800000000000004, 32.9, 33.0, 33.1, 33.2, 33.300000000000004, 33.4, 33.5, 33.6, 33.7, 33.800000000000004, 33.9, 34.0, 34.1, 34.2, 34.300000000000004, 34.4, 34.5, 34.6, 34.7, 34.800000000000004, 34.9, 35.0, 35.1, 35.2, 35.300000000000004, 35.4, 35.5, 35.6, 35.7, 35.800000000000004, 35.9, 36.0, 36.1, 36.2, 36.300000000000004, 36.4, 36.5, 36.6, 36.7, 36.800000000000004, 36.9, 37.0]], [[399, 400, 401, 402, 403, 404, 404, 404, 405, 406, 408, 408, 408, 409, 409, 410, 411, 412, 414, 414, 415, 415, 416, 417, 417, 418, 419, 420, 421, 422, 423, 424, 425, 426, 428, 429, 430, 431, 432, 434, 435, 436, 437, 437, 438, 439, 440, 440, 441, 442, 443, 444, 445, 446, 448, 448], [309, 310, 310, 310, 311, 311, 312, 314, 314, 314, 314, 315, 316, 316, 317, 317, 318, 318, 318, 319, 319, 321, 321, 321, 322, 322, 322, 322, 322, 322, 322, 322, 322, 322, 322, 322, 322, 322, 322, 322, 322, 322, 322, 320, 320, 320, 320, 319, 319, 319, 318, 318, 318, 318, 318, 317], [37.2, 37.300000000000004, 37.4, 37.5, 37.6, 37.7, 37.800000000000004, 37.9, 38.0, 38.1, 38.2, 38.300000000000004, 38.400000000000006, 38.5, 38.6, 38.7, 38.800000000000004, 38.900000000000006, 39.0, 39.1, 39.2, 39.300000000000004, 39.400000000000006, 39.5, 39.6, 39.7, 39.800000000000004, 39.900000000000006, 40.0, 40.1, 40.2, 40.300000000000004, 40.400000000000006, 40.5, 40.6, 40.7, 40.800000000000004, 40.900000000000006, 41.0, 41.1, 41.2, 41.300000000000004, 41.400000000000006, 41.5, 41.6, 41.7, 41.800000000000004, 41.900000000000006, 42.0, 42.1, 42.2, 42.300000000000004, 42.400000000000006, 42.5, 42.6, 42.7]], [[452, 452, 451, 450, 450, 448, 448, 447, 447, 446, 446, 446, 445, 445, 444, 444, 443, 443, 441, 441, 440, 440, 440, 439, 439, 438, 438, 438, 437, 437, 436, 436, 435, 435, 434, 434, 433, 432, 432, 431, 431, 430, 430, 428, 428, 428, 428, 427, 427, 427, 426, 426, 426, 425, 425, 425, 424, 424, 424, 424, 424, 423, 423, 421, 421, 421, 421, 420, 420, 420, 420, 420, 420, 420, 419, 419, 419, 419, 419, 419, 419, 419, 419, 419], [250, 251, 251, 251, 252, 252, 254, 254, 255, 255, 256, 257, 257, 258, 258, 259, 259, 261, 261, 262, 262, 263, 264, 265, 266, 266, 267, 268, 269, 270, 270, 271, 272, 274, 274, 275, 275, 277, 278, 280, 281, 281, 282, 282, 283, 284, 285, 285, 286, 287, 288, 289, 290, 290, 291, 292, 292, 294, 295, 296, 297, 297, 298, 298, 300, 301, 302, 302, 303, 304, 305, 306, 307, 308, 308, 309, 310, 311, 312, 314, 315, 316, 317, 31], [42.900000000000006, 43.0, 43.1, 43.2, 43.300000000000004, 43.400000000000006, 43.5, 43.6, 43.7, 43.800000000000004, 43.900000000000006, 44.0, 44.1, 44.2, 44.300000000000004, 44.400000000000006, 44.5, 44.6, 44.7, 44.800000000000004, 44.900000000000006, 45.0, 45.1, 45.2, 45.300000000000004, 45.400000000000006, 45.5, 45.6, 45.7, 45.800000000000004, 45.900000000000006, 46.0, 46.1, 46.2, 46.300000000000004, 46.400000000000006, 46.5, 46.6, 46.7, 46.800000000000004, 46.900000000000006, 47.0, 47.1, 47.2, 47.300000000000004, 47.400000000000006, 47.5, 47.6, 47.7, 47.800000000000004, 47.900000000000006, 48.0, 48.1, 48.2, 48.300000000000004, 48.400000000000006, 48.5, 48.6, 48.7, 48.800000000000004, 48.900000000000006, 49.0, 49.1, 49.2, 49.300000000000004, 49.400000000000006, 49.5, 49.6, 49.7, 49.800000000000004, 49.900000000000006, 50.0, 50.1, 50.2, 50.300000000000004, 50.400000000000006, 50.5, 50.6, 50.7, 50.800000000000004, 50.900000000000006, 51.0, 51.1, 51.2]]]\n"
     ]
    }
   ],
   "source": [
    "print(draw)"
   ]
  },
  {
   "cell_type": "code",
   "execution_count": 22,
   "metadata": {},
   "outputs": [],
   "source": [
    "s_draw = normalize_resample_simplify(draw)"
   ]
  },
  {
   "cell_type": "code",
   "execution_count": 23,
   "metadata": {},
   "outputs": [
    {
     "data": {
      "image/png": "[encoded data removed]",
      "text/plain": [
       "<Figure size 432x216 with 2 Axes>"
      ]
     },
     "metadata": {
      "image/png": {
       "height": 177,
       "width": 349
      },
      "needs_background": "light"
     },
     "output_type": "display_data"
    }
   ],
   "source": [
    "plt.figure(figsize=(6,3))    \n",
    "for x,y,t in draw:\n",
    "    plt.subplot(1,2,1)\n",
    "    plt.plot(x, y, marker='.')\n",
    "    plt.axis('off')\n",
    "\n",
    "    plt.gca().invert_yaxis()\n",
    "    plt.axis('equal')\n",
    "\n",
    "for x,y in s_draw:\n",
    "    plt.subplot(1,2,2)\n",
    "    plt.plot(x, y, marker='.')\n",
    "    plt.axis('off')\n",
    "\n",
    "    plt.gca().invert_yaxis()\n",
    "    plt.axis('equal')\n",
    "    \n",
    "plt.show() "
   ]
  },
  {
   "cell_type": "code",
   "execution_count": 24,
   "metadata": {},
   "outputs": [],
   "source": [
    "new_draw = {\"key_id\": 233, \"countrycode\": 'CN', \"drawing\": str(draw)}"
   ]
  },
  {
   "cell_type": "code",
   "execution_count": 25,
   "metadata": {},
   "outputs": [],
   "source": [
    "df = df.append(new_draw, ignore_index=True)"
   ]
  },
  {
   "cell_type": "code",
   "execution_count": 27,
   "metadata": {},
   "outputs": [],
   "source": [
    "df.to_csv(\"test.csv\", index=False)"
   ]
  },
  {
   "cell_type": "code",
   "execution_count": null,
   "metadata": {},
   "outputs": [],
   "source": []
  }
 ],
 "metadata": {
  "kernelspec": {
   "display_name": "Python 3",
   "language": "python",
   "name": "python3"
  },
  "language_info": {
   "codemirror_mode": {
    "name": "ipython",
    "version": 3
   },
   "file_extension": ".py",
   "mimetype": "text/x-python",
   "name": "python",
   "nbconvert_exporter": "python",
   "pygments_lexer": "ipython3",
   "version": "3.7.3"
  }
 },
 "nbformat": 4,
 "nbformat_minor": 2
}
