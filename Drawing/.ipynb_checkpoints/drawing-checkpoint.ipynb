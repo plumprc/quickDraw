{
 "cells": [
  {
   "cell_type": "code",
   "execution_count": 1,
   "metadata": {},
   "outputs": [],
   "source": [
    "import warnings\n",
    "warnings.filterwarnings('ignore') # to suppress some matplotlib deprecation warnings\n",
    "import ast\n",
    "import math\n",
    "import numpy as np\n",
    "import pandas as pd\n",
    "from simplification.cutil import simplify_coords\n",
    "import matplotlib.pyplot as plt\n",
    "import matplotlib.style as style\n",
    "%matplotlib inline\n",
    "%config InlineBackend.figure_format = 'retina'"
   ]
  },
  {
   "cell_type": "code",
   "execution_count": 2,
   "metadata": {},
   "outputs": [
    {
     "data": {
      "text/html": [
       "<div>\n",
       "<style scoped>\n",
       "    .dataframe tbody tr th:only-of-type {\n",
       "        vertical-align: middle;\n",
       "    }\n",
       "\n",
       "    .dataframe tbody tr th {\n",
       "        vertical-align: top;\n",
       "    }\n",
       "\n",
       "    .dataframe thead th {\n",
       "        text-align: right;\n",
       "    }\n",
       "</style>\n",
       "<table border=\"1\" class=\"dataframe\">\n",
       "  <thead>\n",
       "    <tr style=\"text-align: right;\">\n",
       "      <th></th>\n",
       "      <th>key_id</th>\n",
       "      <th>countrycode</th>\n",
       "      <th>drawing</th>\n",
       "    </tr>\n",
       "  </thead>\n",
       "  <tbody>\n",
       "    <tr>\n",
       "      <th>0</th>\n",
       "      <td>9022912629140906</td>\n",
       "      <td>SG</td>\n",
       "      <td>[[[549, 549, 549, 549, 549, 549, 549, 549, 549...</td>\n",
       "    </tr>\n",
       "    <tr>\n",
       "      <th>1</th>\n",
       "      <td>9399436465240934</td>\n",
       "      <td>TW</td>\n",
       "      <td>[[[23.20400047302246, 19.23900032043457, 13.81...</td>\n",
       "    </tr>\n",
       "    <tr>\n",
       "      <th>2</th>\n",
       "      <td>9026684540723037</td>\n",
       "      <td>IE</td>\n",
       "      <td>[[[514, 519, 524, 529, 534, 539, 545, 551, 556...</td>\n",
       "    </tr>\n",
       "    <tr>\n",
       "      <th>3</th>\n",
       "      <td>9678445486746481</td>\n",
       "      <td>RU</td>\n",
       "      <td>[[[726, 726, 727, 727, 717, 713, 703, 700, 696...</td>\n",
       "    </tr>\n",
       "    <tr>\n",
       "      <th>4</th>\n",
       "      <td>9469133523291747</td>\n",
       "      <td>CA</td>\n",
       "      <td>[[[133.66700744628906, 132.1219940185547, 130....</td>\n",
       "    </tr>\n",
       "  </tbody>\n",
       "</table>\n",
       "</div>"
      ],
      "text/plain": [
       "             key_id countrycode  \\\n",
       "0  9022912629140906          SG   \n",
       "1  9399436465240934          TW   \n",
       "2  9026684540723037          IE   \n",
       "3  9678445486746481          RU   \n",
       "4  9469133523291747          CA   \n",
       "\n",
       "                                             drawing  \n",
       "0  [[[549, 549, 549, 549, 549, 549, 549, 549, 549...  \n",
       "1  [[[23.20400047302246, 19.23900032043457, 13.81...  \n",
       "2  [[[514, 519, 524, 529, 534, 539, 545, 551, 556...  \n",
       "3  [[[726, 726, 727, 727, 717, 713, 703, 700, 696...  \n",
       "4  [[[133.66700744628906, 132.1219940185547, 130....  "
      ]
     },
     "execution_count": 2,
     "metadata": {},
     "output_type": "execute_result"
    }
   ],
   "source": [
    "df = pd.read_csv('test.csv')\n",
    "df.head()"
   ]
  },
  {
   "cell_type": "code",
   "execution_count": 8,
   "metadata": {},
   "outputs": [
    {
     "data": {
      "text/plain": [
       "3"
      ]
     },
     "execution_count": 8,
     "metadata": {},
     "output_type": "execute_result"
    }
   ],
   "source": [
    "img = ast.literal_eval(df['drawing'][0])\n",
    "len(img[0])"
   ]
  },
  {
   "cell_type": "code",
   "execution_count": 9,
   "metadata": {},
   "outputs": [],
   "source": [
    "def resample(x, y, spacing=1.0):\n",
    "    output = []\n",
    "    n = len(x)\n",
    "    px = x[0]\n",
    "    py = y[0]\n",
    "    cumlen = 0\n",
    "    pcumlen = 0\n",
    "    offset = 0\n",
    "    for i in range(1, n):\n",
    "        cx = x[i]\n",
    "        cy = y[i]\n",
    "        dx = cx - px\n",
    "        dy = cy - py\n",
    "        curlen = math.sqrt(dx*dx + dy*dy)\n",
    "        cumlen += curlen\n",
    "        while offset < cumlen:\n",
    "            t = (offset - pcumlen) / curlen\n",
    "            invt = 1 - t\n",
    "            tx = px * invt + cx * t\n",
    "            ty = py * invt + cy * t\n",
    "            output.append((tx, ty))\n",
    "            offset += spacing\n",
    "        pcumlen = cumlen\n",
    "        px = cx\n",
    "        py = cy\n",
    "    output.append((x[-1], y[-1]))\n",
    "    return output\n",
    "  \n",
    "def normalize_resample_simplify(strokes, epsilon=1.0, resample_spacing=1.0):\n",
    "    if len(strokes) == 0:\n",
    "        raise ValueError('empty image')\n",
    "\n",
    "    # find min and max\n",
    "    amin = None\n",
    "    amax = None\n",
    "    for x, y, _ in strokes:\n",
    "        cur_min = [np.min(x), np.min(y)]\n",
    "        cur_max = [np.max(x), np.max(y)]\n",
    "        amin = cur_min if amin is None else np.min([amin, cur_min], axis=0)\n",
    "        amax = cur_max if amax is None else np.max([amax, cur_max], axis=0)\n",
    "\n",
    "    # drop any drawings that are linear along one axis\n",
    "    arange = np.array(amax) - np.array(amin)\n",
    "    if np.min(arange) == 0:\n",
    "        raise ValueError('bad range of values')\n",
    "\n",
    "    arange = np.max(arange)\n",
    "    output = []\n",
    "    for x, y, _ in strokes:\n",
    "        xy = np.array([x, y], dtype=float).T\n",
    "        xy -= amin\n",
    "        xy *= 255.\n",
    "        xy /= arange\n",
    "        resampled = resample(xy[:, 0], xy[:, 1], resample_spacing)\n",
    "        simplified = simplify_coords(resampled, epsilon)\n",
    "        xy = np.around(simplified).astype(np.uint8)\n",
    "        output.append(xy.T.tolist())\n",
    "\n",
    "    return output"
   ]
  },
  {
   "cell_type": "code",
   "execution_count": 10,
   "metadata": {},
   "outputs": [],
   "source": [
    "s_img = normalize_resample_simplify(img)"
   ]
  },
  {
   "cell_type": "code",
   "execution_count": 11,
   "metadata": {},
   "outputs": [
    {
     "data": {
      "image/png": "[encoded data removed]",
      "text/plain": [
       "<Figure size 432x216 with 2 Axes>"
      ]
     },
     "metadata": {
      "image/png": {
       "height": 177,
       "width": 349
      },
      "needs_background": "light"
     },
     "output_type": "display_data"
    }
   ],
   "source": [
    "plt.figure(figsize=(6,3))    \n",
    "for x,y,t in img:\n",
    "    plt.subplot(1,2,1)\n",
    "    plt.plot(x, y, marker='.')\n",
    "    plt.axis('off')\n",
    "\n",
    "    plt.gca().invert_yaxis()\n",
    "    plt.axis('equal')\n",
    "\n",
    "for x,y in s_img:\n",
    "    plt.subplot(1,2,2)\n",
    "    plt.plot(x, y, marker='.')\n",
    "    plt.axis('off')\n",
    "\n",
    "    plt.gca().invert_yaxis()\n",
    "    plt.axis('equal')\n",
    "    \n",
    "plt.show() "
   ]
  },
  {
   "cell_type": "code",
   "execution_count": 12,
   "metadata": {},
   "outputs": [
    {
     "data": {
      "text/plain": [
       "(30, 3)"
      ]
     },
     "execution_count": 12,
     "metadata": {},
     "output_type": "execute_result"
    }
   ],
   "source": [
    "iimg = np.array(img) \n",
    "iimg.shape"
   ]
  },
  {
   "cell_type": "code",
   "execution_count": 65,
   "metadata": {},
   "outputs": [
    {
     "name": "stdout",
     "output_type": "stream",
     "text": [
      "[0, 44, 68, 80, 93, 105, 112, 121, 128, 136, 144, 153, 158, 165, 173, 180, 194, 200, 216, 232, 248, 273, 300, 329, 357, 380, 400, 413, 430, 441, 449, 461, 472, 477, 485, 493, 506, 510, 517, 524, 533, 542, 548, 552, 561, 571, 577, 585, 592, 604, 608, 617, 630, 642, 661, 693, 721, 748, 766, 780, 797, 808, 821, 832, 844, 859, 872, 893, 907, 929, 952, 976, 998, 1041, 1098, 1109]\n",
      "[1530, 1572, 1609, 1633, 1658, 1676, 1698, 1712, 1732, 2013, 2280, 2317, 2332, 2348, 2361, 2372, 2394, 2408, 2429, 2441, 2461, 2473, 2494, 2521, 2590, 2846]\n",
      "[3280, 3406, 3433, 3452, 3476, 3495, 3513, 3537, 3564, 3592, 3629, 3664, 3696, 3728, 3752, 3777, 3801, 3828, 3852, 3876, 3908, 3932, 3957, 3988, 4008, 4034, 4060, 4089, 4112, 4144, 4180, 4212, 4244, 4312, 4428, 4538]\n",
      "[4687, 4792, 4832, 4859, 4872, 4893, 4908, 4932, 5106, 5132, 5158, 5198]\n",
      "[5562, 5600, 5628, 5646, 5662, 5673, 5690, 5706, 5723, 5733, 5745, 5757, 5769, 5781, 5797, 5823, 5844]\n"
     ]
    }
   ],
   "source": [
    "for x, y, t in iimg:\n",
    "    print(t)"
   ]
  },
  {
   "cell_type": "code",
   "execution_count": 64,
   "metadata": {},
   "outputs": [
    {
     "name": "stdout",
     "output_type": "stream",
     "text": [
      "[[883, 878, 873, 868, 862, 857, 852, 846, 840, 833, 826, 818, 813, 806, 800, 794, 788, 783, 778, 773, 768, 763, 760, 758, 758, 758, 762, 766, 771, 776, 781, 788, 793, 799, 806, 812, 819, 827, 834, 843, 851, 859, 867, 872, 880, 887, 895, 902, 908, 914, 920, 925, 931, 936, 941, 943, 943, 938, 933, 928, 923, 918, 913, 907, 901, 895, 888, 882, 877, 872, 867, 862, 857, 852, 847, 846], [413, 411, 411, 411, 411, 412, 412, 413, 415, 416, 416, 417, 417, 418, 418, 419, 419, 419, 421, 423, 425, 428, 433, 438, 443, 448, 453, 458, 462, 465, 466, 468, 470, 471, 471, 473, 474, 474, 474, 474, 474, 474, 474, 474, 474, 473, 472, 470, 470, 468, 467, 465, 463, 460, 456, 451, 446, 442, 438, 436, 434, 433, 432, 430, 429, 427, 426, 424, 424, 423, 421, 421, 420, 420, 420, 420], [0, 44, 68, 80, 93, 105, 112, 121, 128, 136, 144, 153, 158, 165, 173, 180, 194, 200, 216, 232, 248, 273, 300, 329, 357, 380, 400, 413, 430, 441, 449, 461, 472, 477, 485, 493, 506, 510, 517, 524, 533, 542, 548, 552, 561, 571, 577, 585, 592, 604, 608, 617, 630, 642, 661, 693, 721, 748, 766, 780, 797, 808, 821, 832, 844, 859, 872, 893, 907, 929, 952, 976, 998, 1041, 1098, 1109]]\n"
     ]
    }
   ],
   "source": [
    "print(img[0])"
   ]
  },
  {
   "cell_type": "code",
   "execution_count": 69,
   "metadata": {},
   "outputs": [],
   "source": [
    "test = [[[10, 30, 30, 10, 10], [10, 10, 30, 30, 10], [0, 4, 9, 16, 18]], [[0, 50, 50, 0, 0], [0, 0, 50, 50, 0], [25, 30, 35, 40, 42]]]\n",
    "s_test = normalize_resample_simplify(test)"
   ]
  },
  {
   "cell_type": "code",
   "execution_count": 70,
   "metadata": {},
   "outputs": [
    {
     "data": {
      "image/png": "[encoded data removed]",
      "text/plain": [
       "<Figure size 432x216 with 2 Axes>"
      ]
     },
     "metadata": {
      "image/png": {
       "height": 177,
       "width": 349
      },
      "needs_background": "light"
     },
     "output_type": "display_data"
    }
   ],
   "source": [
    "plt.figure(figsize=(6,3))    \n",
    "for x,y,t in test:\n",
    "    plt.subplot(1,2,1)\n",
    "    plt.plot(x, y, marker='.')\n",
    "    plt.axis('off')\n",
    "\n",
    "    plt.gca().invert_yaxis()\n",
    "    plt.axis('equal')\n",
    "\n",
    "for x,y in s_test:\n",
    "    plt.subplot(1,2,2)\n",
    "    plt.plot(x, y, marker='.')\n",
    "    plt.axis('off')\n",
    "\n",
    "    plt.gca().invert_yaxis()\n",
    "    plt.axis('equal')\n",
    "    \n",
    "plt.show() "
   ]
  },
  {
   "cell_type": "code",
   "execution_count": null,
   "metadata": {},
   "outputs": [],
   "source": []
  }
 ],
 "metadata": {
  "kernelspec": {
   "display_name": "Python 3",
   "language": "python",
   "name": "python3"
  },
  "language_info": {
   "codemirror_mode": {
    "name": "ipython",
    "version": 3
   },
   "file_extension": ".py",
   "mimetype": "text/x-python",
   "name": "python",
   "nbconvert_exporter": "python",
   "pygments_lexer": "ipython3",
   "version": "3.7.3"
  }
 },
 "nbformat": 4,
 "nbformat_minor": 2
}
