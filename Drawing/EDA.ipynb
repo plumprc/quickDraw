{
 "cells": [
  {
   "cell_type": "code",
   "execution_count": 1,
   "metadata": {},
   "outputs": [],
   "source": [
    "import pandas as pd\n",
    "import numpy as np"
   ]
  },
  {
   "cell_type": "code",
   "execution_count": 37,
   "metadata": {},
   "outputs": [
    {
     "data": {
      "text/html": [
       "<div>\n",
       "<style scoped>\n",
       "    .dataframe tbody tr th:only-of-type {\n",
       "        vertical-align: middle;\n",
       "    }\n",
       "\n",
       "    .dataframe tbody tr th {\n",
       "        vertical-align: top;\n",
       "    }\n",
       "\n",
       "    .dataframe thead th {\n",
       "        text-align: right;\n",
       "    }\n",
       "</style>\n",
       "<table border=\"1\" class=\"dataframe\">\n",
       "  <thead>\n",
       "    <tr style=\"text-align: right;\">\n",
       "      <th></th>\n",
       "      <th>key_id</th>\n",
       "      <th>countrycode</th>\n",
       "      <th>drawing</th>\n",
       "    </tr>\n",
       "  </thead>\n",
       "  <tbody>\n",
       "    <tr>\n",
       "      <th>0</th>\n",
       "      <td>9000003627287624</td>\n",
       "      <td>DE</td>\n",
       "      <td>[[[537.8900146484375, 538.9500122070312, 538.9...</td>\n",
       "    </tr>\n",
       "    <tr>\n",
       "      <th>1</th>\n",
       "      <td>9000010688666847</td>\n",
       "      <td>UA</td>\n",
       "      <td>[[[883, 878, 873, 868, 862, 857, 852, 846, 840...</td>\n",
       "    </tr>\n",
       "  </tbody>\n",
       "</table>\n",
       "</div>"
      ],
      "text/plain": [
       "             key_id countrycode  \\\n",
       "0  9000003627287624          DE   \n",
       "1  9000010688666847          UA   \n",
       "\n",
       "                                             drawing  \n",
       "0  [[[537.8900146484375, 538.9500122070312, 538.9...  \n",
       "1  [[[883, 878, 873, 868, 862, 857, 852, 846, 840...  "
      ]
     },
     "execution_count": 37,
     "metadata": {},
     "output_type": "execute_result"
    }
   ],
   "source": [
    "df = pd.read_csv('test.csv')\n",
    "df.head()"
   ]
  },
  {
   "cell_type": "code",
   "execution_count": 38,
   "metadata": {},
   "outputs": [
    {
     "data": {
      "text/plain": [
       "340"
      ]
     },
     "execution_count": 38,
     "metadata": {},
     "output_type": "execute_result"
    }
   ],
   "source": [
    "pred = np.load('test.npy')\n",
    "len(pred)"
   ]
  },
  {
   "cell_type": "code",
   "execution_count": 39,
   "metadata": {},
   "outputs": [
    {
     "data": {
      "text/plain": [
       "340"
      ]
     },
     "execution_count": 39,
     "metadata": {},
     "output_type": "execute_result"
    }
   ],
   "source": [
    "pred2 = np.load('test2.npy')\n",
    "len(pred2)"
   ]
  },
  {
   "cell_type": "code",
   "execution_count": 40,
   "metadata": {},
   "outputs": [],
   "source": [
    "CLASSES = ['The_Eiffel_Tower', 'The_Great_Wall_of_China', 'The_Mona_Lisa', 'airplane', 'alarm_clock', 'ambulance',\n",
    "           'angel', 'animal_migration', 'ant', 'anvil', 'apple', 'arm', 'asparagus', 'axe', 'backpack', 'banana',\n",
    "           'bandage', 'barn', 'baseball_bat', 'baseball', 'basket', 'basketball', 'bat', 'bathtub', 'beach', 'bear',\n",
    "           'beard', 'bed', 'bee', 'belt', 'bench', 'bicycle', 'binoculars', 'bird', 'birthday_cake', 'blackberry',\n",
    "           'blueberry', 'book', 'boomerang', 'bottlecap', 'bowtie', 'bracelet', 'brain', 'bread', 'bridge', 'broccoli',\n",
    "           'broom', 'bucket', 'bulldozer', 'bus', 'bush', 'butterfly', 'cactus', 'cake', 'calculator', 'calendar',\n",
    "           'camel', 'camera', 'camouflage', 'campfire', 'candle', 'cannon', 'canoe', 'car', 'carrot', 'castle', 'cat',\n",
    "           'ceiling_fan', 'cell_phone', 'cello', 'chair', 'chandelier', 'church', 'circle', 'clarinet', 'clock',\n",
    "           'cloud', 'coffee_cup', 'compass', 'computer', 'cookie', 'cooler', 'couch', 'cow', 'crab', 'crayon',\n",
    "           'crocodile', 'crown', 'cruise_ship', 'cup', 'diamond', 'dishwasher', 'diving_board', 'dog', 'dolphin',\n",
    "           'donut', 'door', 'dragon', 'dresser', 'drill', 'drums', 'duck', 'dumbbell', 'ear', 'elbow', 'elephant',\n",
    "           'envelope', 'eraser', 'eye', 'eyeglasses', 'face', 'fan', 'feather', 'fence', 'finger', 'fire_hydrant',\n",
    "           'fireplace', 'firetruck', 'fish', 'flamingo', 'flashlight', 'flip_flops', 'floor_lamp', 'flower',\n",
    "           'flying_saucer', 'foot', 'fork', 'frog', 'frying_pan', 'garden_hose', 'garden', 'giraffe', 'goatee',\n",
    "           'golf_club', 'grapes', 'grass', 'guitar', 'hamburger', 'hammer', 'hand', 'harp', 'hat', 'headphones',\n",
    "           'hedgehog', 'helicopter', 'helmet', 'hexagon', 'hockey_puck', 'hockey_stick', 'horse', 'hospital',\n",
    "           'hot_air_balloon', 'hot_dog', 'hot_tub', 'hourglass', 'house_plant', 'house', 'hurricane', 'ice_cream',\n",
    "           'jacket', 'jail', 'kangaroo', 'key', 'keyboard', 'knee', 'ladder', 'lantern', 'laptop', 'leaf', 'leg',\n",
    "           'light_bulb', 'lighthouse', 'lightning', 'line', 'lion', 'lipstick', 'lobster', 'lollipop', 'mailbox', 'map',\n",
    "           'marker', 'matches', 'megaphone', 'mermaid', 'microphone', 'microwave', 'monkey', 'moon', 'mosquito',\n",
    "           'motorbike', 'mountain', 'mouse', 'moustache', 'mouth', 'mug', 'mushroom', 'nail', 'necklace', 'nose',\n",
    "           'ocean', 'octagon', 'octopus', 'onion', 'oven', 'owl', 'paint_can', 'paintbrush', 'palm_tree', 'panda',\n",
    "           'pants', 'paper_clip', 'parachute', 'parrot', 'passport', 'peanut', 'pear', 'peas', 'pencil', 'penguin',\n",
    "           'piano', 'pickup_truck', 'picture_frame', 'pig', 'pillow', 'pineapple', 'pizza', 'pliers', 'police_car',\n",
    "           'pond', 'pool', 'popsicle', 'postcard', 'potato', 'power_outlet', 'purse', 'rabbit', 'raccoon', 'radio',\n",
    "           'rain', 'rainbow', 'rake', 'remote_control', 'rhinoceros', 'river', 'roller_coaster', 'rollerskates',\n",
    "           'sailboat', 'sandwich', 'saw', 'saxophone', 'school_bus', 'scissors', 'scorpion', 'screwdriver',\n",
    "           'sea_turtle', 'see_saw', 'shark', 'sheep', 'shoe', 'shorts', 'shovel', 'sink', 'skateboard', 'skull',\n",
    "           'skyscraper', 'sleeping_bag', 'smiley_face', 'snail', 'snake', 'snorkel', 'snowflake', 'snowman',\n",
    "           'soccer_ball', 'sock', 'speedboat', 'spider', 'spoon', 'spreadsheet', 'square', 'squiggle', 'squirrel',\n",
    "           'stairs', 'star', 'steak', 'stereo', 'stethoscope', 'stitches', 'stop_sign', 'stove', 'strawberry',\n",
    "           'streetlight', 'string_bean', 'submarine', 'suitcase', 'sun', 'swan', 'sweater', 'swing_set', 'sword',\n",
    "           't-shirt', 'table', 'teapot', 'teddy-bear', 'telephone', 'television', 'tennis_racquet', 'tent', 'tiger',\n",
    "           'toaster', 'toe', 'toilet', 'tooth', 'toothbrush', 'toothpaste', 'tornado', 'tractor', 'traffic_light',\n",
    "           'train', 'tree', 'triangle', 'trombone', 'truck', 'trumpet', 'umbrella', 'underwear', 'van', 'vase',\n",
    "           'violin', 'washing_machine', 'watermelon', 'waterslide', 'whale', 'wheel', 'windmill', 'wine_bottle',\n",
    "           'wine_glass', 'wristwatch', 'yoga', 'zebra', 'zigzag']\n",
    "class_to_idx = {c: idx for idx, c in enumerate(CLASSES)}\n",
    "idx_to_class = {v: k for k, v in class_to_idx.items()}"
   ]
  },
  {
   "cell_type": "code",
   "execution_count": 41,
   "metadata": {},
   "outputs": [],
   "source": [
    "pred = np.argsort(pred)\n",
    "pred2 = np.argsort(pred2)"
   ]
  },
  {
   "cell_type": "code",
   "execution_count": 45,
   "metadata": {},
   "outputs": [
    {
     "name": "stdout",
     "output_type": "stream",
     "text": [
      "radio stereo stove\n",
      "hockey_puck bottlecap steak\n"
     ]
    }
   ],
   "source": [
    "print(idx_to_class[pred[-1]], idx_to_class[pred[-2]], idx_to_class[pred[-3]])\n",
    "print(idx_to_class[pred2[-1]], idx_to_class[pred2[-2]], idx_to_class[pred2[-3]])"
   ]
  },
  {
   "cell_type": "code",
   "execution_count": 25,
   "metadata": {},
   "outputs": [],
   "source": [
    "import ast\n",
    "import math\n",
    "from simplification.cutil import simplify_coords\n",
    "import matplotlib.pyplot as plt\n",
    "import matplotlib.style as style\n",
    "%matplotlib inline\n",
    "%config InlineBackend.figure_format = 'retina'"
   ]
  },
  {
   "cell_type": "code",
   "execution_count": 26,
   "metadata": {},
   "outputs": [],
   "source": [
    "def resample(x, y, spacing=1.0):\n",
    "    output = []\n",
    "    n = len(x)\n",
    "    px = x[0]\n",
    "    py = y[0]\n",
    "    cumlen = 0\n",
    "    pcumlen = 0\n",
    "    offset = 0\n",
    "    for i in range(1, n):\n",
    "        cx = x[i]\n",
    "        cy = y[i]\n",
    "        dx = cx - px\n",
    "        dy = cy - py\n",
    "        curlen = math.sqrt(dx*dx + dy*dy)\n",
    "        cumlen += curlen\n",
    "        while offset < cumlen:\n",
    "            t = (offset - pcumlen) / curlen\n",
    "            invt = 1 - t\n",
    "            tx = px * invt + cx * t\n",
    "            ty = py * invt + cy * t\n",
    "            output.append((tx, ty))\n",
    "            offset += spacing\n",
    "        pcumlen = cumlen\n",
    "        px = cx\n",
    "        py = cy\n",
    "    output.append((x[-1], y[-1]))\n",
    "    return output\n",
    "  \n",
    "def normalize_resample_simplify(strokes, epsilon=1.0, resample_spacing=1.0):\n",
    "    if len(strokes) == 0:\n",
    "        raise ValueError('empty image')\n",
    "\n",
    "    # find min and max\n",
    "    amin = None\n",
    "    amax = None\n",
    "    for x, y, _ in strokes:\n",
    "        cur_min = [np.min(x), np.min(y)]\n",
    "        cur_max = [np.max(x), np.max(y)]\n",
    "        amin = cur_min if amin is None else np.min([amin, cur_min], axis=0)\n",
    "        amax = cur_max if amax is None else np.max([amax, cur_max], axis=0)\n",
    "\n",
    "    # drop any drawings that are linear along one axis\n",
    "    arange = np.array(amax) - np.array(amin)\n",
    "    if np.min(arange) == 0:\n",
    "        raise ValueError('bad range of values')\n",
    "\n",
    "    arange = np.max(arange)\n",
    "    output = []\n",
    "    for x, y, _ in strokes:\n",
    "        xy = np.array([x, y], dtype=float).T\n",
    "        xy -= amin\n",
    "        xy *= 255.\n",
    "        xy /= arange\n",
    "        resampled = resample(xy[:, 0], xy[:, 1], resample_spacing)\n",
    "        simplified = simplify_coords(resampled, epsilon)\n",
    "        xy = np.around(simplified).astype(np.uint8)\n",
    "        output.append(xy.T.tolist())\n",
    "\n",
    "    return output"
   ]
  },
  {
   "cell_type": "code",
   "execution_count": 27,
   "metadata": {},
   "outputs": [],
   "source": [
    "test_raw = pd.read_csv('test.csv', index_col='key_id')\n",
    "first_ten_ids = test_raw.iloc[:2].index\n",
    "raw_images = [ast.literal_eval(lst) for lst in test_raw.loc[first_ten_ids, 'drawing'].values]"
   ]
  },
  {
   "cell_type": "code",
   "execution_count": 28,
   "metadata": {},
   "outputs": [],
   "source": [
    "simplified_drawings = []\n",
    "for drawing in raw_images:\n",
    "    simplified_drawing = normalize_resample_simplify(drawing)\n",
    "    simplified_drawings.append(simplified_drawing)"
   ]
  },
  {
   "cell_type": "code",
   "execution_count": 29,
   "metadata": {},
   "outputs": [
    {
     "name": "stderr",
     "output_type": "stream",
     "text": [
      "F:\\Anaconda3\\lib\\site-packages\\ipykernel_launcher.py:6: MatplotlibDeprecationWarning: Adding an axes using the same arguments as a previous axes currently reuses the earlier instance.  In a future version, a new instance will always be created and returned.  Meanwhile, this warning can be suppressed, and the future behavior ensured, by passing a unique label to each axes instance.\n",
      "  \n",
      "F:\\Anaconda3\\lib\\site-packages\\ipykernel_launcher.py:14: MatplotlibDeprecationWarning: Adding an axes using the same arguments as a previous axes currently reuses the earlier instance.  In a future version, a new instance will always be created and returned.  Meanwhile, this warning can be suppressed, and the future behavior ensured, by passing a unique label to each axes instance.\n",
      "  \n"
     ]
    },
    {
     "data": {
      "image/png": "[encoded data removed]",
      "text/plain": [
       "<Figure size 432x216 with 2 Axes>"
      ]
     },
     "metadata": {
      "image/png": {
       "height": 177,
       "width": 349
      },
      "needs_background": "light"
     },
     "output_type": "display_data"
    },
    {
     "data": {
      "image/png": "[encoded data removed]",
      "text/plain": [
       "<Figure size 432x216 with 2 Axes>"
      ]
     },
     "metadata": {
      "image/png": {
       "height": 177,
       "width": 349
      },
      "needs_background": "light"
     },
     "output_type": "display_data"
    }
   ],
   "source": [
    "for index, raw_drawing in enumerate(raw_images, 0):\n",
    "    \n",
    "    plt.figure(figsize=(6,3))\n",
    "    \n",
    "    for x,y,t in raw_drawing:\n",
    "        plt.subplot(1,2,1)\n",
    "        plt.plot(x, y, marker='.')\n",
    "        plt.axis('off')\n",
    "\n",
    "    plt.gca().invert_yaxis()\n",
    "    plt.axis('equal')\n",
    "\n",
    "    for x,y in simplified_drawings[index]:\n",
    "        plt.subplot(1,2,2)\n",
    "        plt.plot(x, y, marker='.')\n",
    "        plt.axis('off')\n",
    "\n",
    "    plt.gca().invert_yaxis()\n",
    "    plt.axis('equal')\n",
    "    plt.show()  "
   ]
  },
  {
   "cell_type": "code",
   "execution_count": null,
   "metadata": {},
   "outputs": [],
   "source": []
  }
 ],
 "metadata": {
  "kernelspec": {
   "display_name": "Python 3",
   "language": "python",
   "name": "python3"
  },
  "language_info": {
   "codemirror_mode": {
    "name": "ipython",
    "version": 3
   },
   "file_extension": ".py",
   "mimetype": "text/x-python",
   "name": "python",
   "nbconvert_exporter": "python",
   "pygments_lexer": "ipython3",
   "version": "3.7.3"
  }
 },
 "nbformat": 4,
 "nbformat_minor": 2
}
